{
 "cells": [
  {
   "cell_type": "code",
   "execution_count": 1,
   "id": "30c526f6",
   "metadata": {},
   "outputs": [],
   "source": [
    "import pandas as pd\n",
    "import numpy as np"
   ]
  },
  {
   "cell_type": "code",
   "execution_count": 83,
   "id": "b0030b36",
   "metadata": {},
   "outputs": [],
   "source": [
    "# count = 0\n",
    "\n",
    "# rows = []\n",
    "# with open(\"dataset/imgs_2021070511352146227/trainset/sysmonitor_trainset.txt\") as fp:\n",
    "#     Lines = fp.readlines()\n",
    "#     for line in Lines:\n",
    "#         count += 1\n",
    "#         rows.append(line.strip())\n",
    "# #         print(\"Line{}: {}\".format(count, line.strip()))\n",
    "        \n",
    "# print(len(rows)) \n",
    "        "
   ]
  },
  {
   "cell_type": "code",
   "execution_count": 100,
   "id": "206f65ee",
   "metadata": {},
   "outputs": [
    {
     "name": "stdout",
     "output_type": "stream",
     "text": [
      "7699\n",
      "7699\n"
     ]
    }
   ],
   "source": [
    "import json\n",
    "\n",
    "f = open('dataset/imgs_2021070511352146227/sysmonitor_train.json',)\n",
    "x = json.load(f)\n",
    "\n",
    "list_of_logs = []\n",
    "list_of_time = []\n",
    "count =0\n",
    "\n",
    "for i in x.keys():\n",
    "    list_of_time.append(i)\n",
    "    list_of_logs.append(x[i])\n",
    "    count +=1\n",
    "\n",
    "print(len(list_of_logs))\n",
    "print(len(list_of_time))\n",
    "\n",
    "\n"
   ]
  },
  {
   "cell_type": "code",
   "execution_count": 101,
   "id": "d5177cf2",
   "metadata": {},
   "outputs": [],
   "source": [
    "from gensim import utils\n",
    "import gensim.parsing.preprocessing as gsp\n",
    "\n",
    "filters = [\n",
    "           gsp.strip_tags, \n",
    "           gsp.strip_punctuation,\n",
    "           gsp.strip_multiple_whitespaces,\n",
    "           gsp.strip_numeric,\n",
    "           gsp.remove_stopwords, \n",
    "           gsp.strip_short, \n",
    "#            gsp.stem_text\n",
    "          ]\n",
    "\n",
    "def clean_text(s):\n",
    "    s = s.lower()\n",
    "    s = utils.to_unicode(s)\n",
    "    for f in filters:\n",
    "        s = f(s)\n",
    "    return s\n"
   ]
  },
  {
   "cell_type": "code",
   "execution_count": 102,
   "id": "39490d1d",
   "metadata": {},
   "outputs": [],
   "source": [
    "def uniq_sent(l1):\n",
    "    k = []\n",
    "    for i in l1:\n",
    "\n",
    "        # If condition is used to store unique string\n",
    "        # in another list 'k'\n",
    "        if (l1.count(i)>=1 and (i not in k)):\n",
    "            k.append(i)\n",
    "    return k"
   ]
  },
  {
   "cell_type": "code",
   "execution_count": 103,
   "id": "a4282f90",
   "metadata": {},
   "outputs": [],
   "source": [
    "def clean_sent(l2): # l2 is a list of sentences\n",
    "    count=0\n",
    "    clean_list=[]\n",
    "    for i in l2:\n",
    "        clean_list.append(clean_text(i))\n",
    "    return clean_list"
   ]
  },
  {
   "cell_type": "code",
   "execution_count": 104,
   "id": "7cbb049e",
   "metadata": {},
   "outputs": [
    {
     "name": "stdout",
     "output_type": "stream",
     "text": [
      "7699\n"
     ]
    }
   ],
   "source": [
    "# Driver code\n",
    "clean_uniq_list=[]\n",
    "for i in list_of_logs:\n",
    "    clean_uniq_list.append(uniq_sent(clean_sent(i)))\n",
    "print(len(clean_uniq_list))"
   ]
  },
  {
   "cell_type": "code",
   "execution_count": 106,
   "id": "fc35bbad",
   "metadata": {},
   "outputs": [
    {
     "name": "stdout",
     "output_type": "stream",
     "text": [
      "('5381987', ['sysmonitor pkill parent getosstat send sigterm iostat bin usr bin getosstat', 'sysmonitor pkill parent getosstat send sigterm sar bin usr bin getosstat', 'sysmonitor pkill parent getosstat send sigterm pidstat bin usr bin getosstat'])\n"
     ]
    }
   ],
   "source": [
    "zipped = list(zip(list_of_time, clean_uniq_list))\n",
    "print(zipped[0])"
   ]
  },
  {
   "cell_type": "code",
   "execution_count": null,
   "id": "73ea8a06",
   "metadata": {
    "scrolled": false
   },
   "outputs": [],
   "source": [
    "for i in range(1, 2):\n",
    "    print(\"\\n\\n\",zipped[i])"
   ]
  },
  {
   "cell_type": "code",
   "execution_count": null,
   "id": "0a009c08",
   "metadata": {},
   "outputs": [],
   "source": [
    "print(uniq_sent(clean_sent(list_of_logs[9])))"
   ]
  },
  {
   "cell_type": "code",
   "execution_count": null,
   "id": "63a5afd2",
   "metadata": {
    "scrolled": true
   },
   "outputs": [],
   "source": [
    "\n",
    "list_of_logs[9]"
   ]
  },
  {
   "cell_type": "code",
   "execution_count": 107,
   "id": "3970d299",
   "metadata": {},
   "outputs": [],
   "source": [
    "import csv\n",
    "\n",
    "fields=[\"timeStamp\", \"logs\"]\n",
    "\n",
    "with open('sysmonitor_train.csv', 'w') as f:\n",
    "      \n",
    "    # using csv.writer method from CSV package\n",
    "    write = csv.writer(f)\n",
    "      \n",
    "    write.writerow(fields)\n",
    "    write.writerows(zipped)"
   ]
  },
  {
   "cell_type": "code",
   "execution_count": 85,
   "id": "5a80fa86",
   "metadata": {},
   "outputs": [],
   "source": [
    "#logs_df = pd.read_csv('messages_train.csv')"
   ]
  },
  {
   "cell_type": "code",
   "execution_count": 86,
   "id": "4fb609ba",
   "metadata": {},
   "outputs": [
    {
     "data": {
      "text/html": [
       "<div>\n",
       "<style scoped>\n",
       "    .dataframe tbody tr th:only-of-type {\n",
       "        vertical-align: middle;\n",
       "    }\n",
       "\n",
       "    .dataframe tbody tr th {\n",
       "        vertical-align: top;\n",
       "    }\n",
       "\n",
       "    .dataframe thead th {\n",
       "        text-align: right;\n",
       "    }\n",
       "</style>\n",
       "<table border=\"1\" class=\"dataframe\">\n",
       "  <thead>\n",
       "    <tr style=\"text-align: right;\">\n",
       "      <th></th>\n",
       "      <th>timeStamp</th>\n",
       "      <th>logs</th>\n",
       "    </tr>\n",
       "  </thead>\n",
       "  <tbody>\n",
       "    <tr>\n",
       "      <th>0</th>\n",
       "      <td>5384927</td>\n",
       "      <td>['rsyslogd origin software rsyslogd swversion ...</td>\n",
       "    </tr>\n",
       "    <tr>\n",
       "      <th>1</th>\n",
       "      <td>5384928</td>\n",
       "      <td>['systemd started session user root', 'systemd...</td>\n",
       "    </tr>\n",
       "    <tr>\n",
       "      <th>2</th>\n",
       "      <td>5384929</td>\n",
       "      <td>['systemd started session user cps', 'systemd ...</td>\n",
       "    </tr>\n",
       "    <tr>\n",
       "      <th>3</th>\n",
       "      <td>5384930</td>\n",
       "      <td>['systemd started session user cps', 'systemd ...</td>\n",
       "    </tr>\n",
       "    <tr>\n",
       "      <th>4</th>\n",
       "      <td>5384931</td>\n",
       "      <td>['systemd started session user cps', 'systemd ...</td>\n",
       "    </tr>\n",
       "  </tbody>\n",
       "</table>\n",
       "</div>"
      ],
      "text/plain": [
       "   timeStamp                                               logs\n",
       "0    5384927  ['rsyslogd origin software rsyslogd swversion ...\n",
       "1    5384928  ['systemd started session user root', 'systemd...\n",
       "2    5384929  ['systemd started session user cps', 'systemd ...\n",
       "3    5384930  ['systemd started session user cps', 'systemd ...\n",
       "4    5384931  ['systemd started session user cps', 'systemd ..."
      ]
     },
     "execution_count": 86,
     "metadata": {},
     "output_type": "execute_result"
    }
   ],
   "source": [
    "logs_df.head()"
   ]
  },
  {
   "cell_type": "code",
   "execution_count": 108,
   "id": "4429100d",
   "metadata": {},
   "outputs": [],
   "source": [
    "logs_df = pd.read_csv('sysmonitor_train.csv')"
   ]
  },
  {
   "cell_type": "code",
   "execution_count": 109,
   "id": "8b79c7f4",
   "metadata": {},
   "outputs": [
    {
     "data": {
      "text/html": [
       "<div>\n",
       "<style scoped>\n",
       "    .dataframe tbody tr th:only-of-type {\n",
       "        vertical-align: middle;\n",
       "    }\n",
       "\n",
       "    .dataframe tbody tr th {\n",
       "        vertical-align: top;\n",
       "    }\n",
       "\n",
       "    .dataframe thead th {\n",
       "        text-align: right;\n",
       "    }\n",
       "</style>\n",
       "<table border=\"1\" class=\"dataframe\">\n",
       "  <thead>\n",
       "    <tr style=\"text-align: right;\">\n",
       "      <th></th>\n",
       "      <th>timeStamp</th>\n",
       "      <th>logs</th>\n",
       "    </tr>\n",
       "  </thead>\n",
       "  <tbody>\n",
       "    <tr>\n",
       "      <th>0</th>\n",
       "      <td>5381987</td>\n",
       "      <td>['sysmonitor pkill parent getosstat send sigte...</td>\n",
       "    </tr>\n",
       "    <tr>\n",
       "      <th>1</th>\n",
       "      <td>5381990</td>\n",
       "      <td>['sysmonitor pkill parent getosstat send sigte...</td>\n",
       "    </tr>\n",
       "    <tr>\n",
       "      <th>2</th>\n",
       "      <td>5381992</td>\n",
       "      <td>['sysmonitor pkill parent getosstat send sigte...</td>\n",
       "    </tr>\n",
       "    <tr>\n",
       "      <th>3</th>\n",
       "      <td>5381994</td>\n",
       "      <td>['sysmonitor bash parent bash send sigkill bas...</td>\n",
       "    </tr>\n",
       "    <tr>\n",
       "      <th>4</th>\n",
       "      <td>5381996</td>\n",
       "      <td>['sysmonitor pkill parent getosstat send sigte...</td>\n",
       "    </tr>\n",
       "  </tbody>\n",
       "</table>\n",
       "</div>"
      ],
      "text/plain": [
       "   timeStamp                                               logs\n",
       "0    5381987  ['sysmonitor pkill parent getosstat send sigte...\n",
       "1    5381990  ['sysmonitor pkill parent getosstat send sigte...\n",
       "2    5381992  ['sysmonitor pkill parent getosstat send sigte...\n",
       "3    5381994  ['sysmonitor bash parent bash send sigkill bas...\n",
       "4    5381996  ['sysmonitor pkill parent getosstat send sigte..."
      ]
     },
     "execution_count": 109,
     "metadata": {},
     "output_type": "execute_result"
    }
   ],
   "source": [
    "logs_df.head()"
   ]
  },
  {
   "cell_type": "code",
   "execution_count": 110,
   "id": "7abce72f",
   "metadata": {},
   "outputs": [],
   "source": [
    "from collections import Counter\n",
    "\n",
    "aggregate_counter = Counter()\n",
    "for row_index,row in logs_df.iterrows():\n",
    "    c = Counter(row['logs'].split())\n",
    "    aggregate_counter += c\n",
    "\n",
    "common_words = [word[0] for word in aggregate_counter.most_common(20)]\n",
    "common_words_counts = [word[1] for word in aggregate_counter.most_common(20)]\n"
   ]
  },
  {
   "cell_type": "code",
   "execution_count": 111,
   "id": "63c1f796",
   "metadata": {},
   "outputs": [],
   "source": [
    "import matplotlib.pyplot as plt\n",
    "import seaborn as sns\n",
    "\n",
    "def barplot(words, words_counts, title):\n",
    "    fig = plt.figure(figsize=(18,6))\n",
    "    bar_plot = sns.barplot(x=words, y=words_counts)\n",
    "    for item in bar_plot.get_xticklabels():\n",
    "        item.set_rotation(90)\n",
    "    plt.title(title)\n",
    "    plt.show()"
   ]
  },
  {
   "cell_type": "code",
   "execution_count": 89,
   "id": "d4860171",
   "metadata": {},
   "outputs": [
    {
     "data": {
      "image/png": "[encoded data removed]",
      "text/plain": [
       "<Figure size 1296x432 with 1 Axes>"
      ]
     },
     "metadata": {
      "needs_background": "light"
     },
     "output_type": "display_data"
    }
   ],
   "source": [
    "barplot(words=common_words, words_counts=common_words_counts, title='Most Frequent Words used in logs')"
   ]
  },
  {
   "cell_type": "code",
   "execution_count": 113,
   "id": "2d2fe77c",
   "metadata": {},
   "outputs": [
    {
     "data": {
      "image/png": "[encoded data removed]",
      "text/plain": [
       "<Figure size 1296x432 with 1 Axes>"
      ]
     },
     "metadata": {
      "needs_background": "light"
     },
     "output_type": "display_data"
    }
   ],
   "source": [
    "barplot(words=common_words, words_counts=common_words_counts, title='Most Frequent Words used in system logs')"
   ]
  },
  {
   "cell_type": "code",
   "execution_count": 115,
   "id": "99a1f69b",
   "metadata": {},
   "outputs": [],
   "source": [
    "# Merge the two training csv files\n",
    "sys_df = pd.read_csv('dataset/imgs_2021070511352146227/trainset/sysmonitor_train.csv')\n",
    "msg_df = pd.read_csv('dataset/imgs_2021070511352146227/trainset/messages_train.csv')\n",
    "final_dataframe = pd.concat([sys_df, msg_df])\n"
   ]
  },
  {
   "cell_type": "code",
   "execution_count": 121,
   "id": "7a263d8d",
   "metadata": {},
   "outputs": [
    {
     "name": "stdout",
     "output_type": "stream",
     "text": [
      "7699\n",
      "14401\n",
      "22100\n"
     ]
    }
   ],
   "source": [
    "print(len(sys_df))\n",
    "print(len(msg_df))\n",
    "print(len(final_dataframe))\n"
   ]
  },
  {
   "cell_type": "code",
   "execution_count": 118,
   "id": "0b3f5e88",
   "metadata": {},
   "outputs": [],
   "source": [
    "# final_dataframe.to_csv('dataset/imgs_2021070511352146227/trainset/merged_train.csv')\n"
   ]
  },
  {
   "cell_type": "code",
   "execution_count": 140,
   "id": "fd85542e",
   "metadata": {},
   "outputs": [],
   "source": [
    "# merged_df = pd.read_csv('dataset/imgs_2021070511352146227/trainset/merged_train.csv')"
   ]
  },
  {
   "cell_type": "code",
   "execution_count": 141,
   "id": "e47a40cd",
   "metadata": {},
   "outputs": [
    {
     "name": "stdout",
     "output_type": "stream",
     "text": [
      "   Unnamed: 0  timeStamp                                               logs\n",
      "0           0    5381987  ['sysmonitor pkill parent getosstat send sigte...\n",
      "1           1    5381990  ['sysmonitor pkill parent getosstat send sigte...\n",
      "2           2    5381992  ['sysmonitor pkill parent getosstat send sigte...\n",
      "3           3    5381994  ['sysmonitor bash parent bash send sigkill bas...\n",
      "4           4    5381996  ['sysmonitor pkill parent getosstat send sigte...\n"
     ]
    }
   ],
   "source": [
    "print(merged_df.head())"
   ]
  },
  {
   "cell_type": "code",
   "execution_count": 142,
   "id": "d3399201",
   "metadata": {},
   "outputs": [],
   "source": [
    "# merged_df.drop(merged_df.columns[0], axis = 1, inplace = True)"
   ]
  },
  {
   "cell_type": "code",
   "execution_count": 143,
   "id": "cb8d2e09",
   "metadata": {},
   "outputs": [],
   "source": [
    "# merged_df.to_csv('dataset/imgs_2021070511352146227/trainset/merged_train.csv', index=False)"
   ]
  },
  {
   "cell_type": "code",
   "execution_count": 18,
   "id": "c57cbe19",
   "metadata": {},
   "outputs": [],
   "source": [
    "merged_df = pd.read_csv('dataset/imgs_2021070511352146227/trainset/merged_train.csv')"
   ]
  },
  {
   "cell_type": "code",
   "execution_count": 19,
   "id": "fdd40f52",
   "metadata": {},
   "outputs": [
    {
     "data": {
      "text/html": [
       "<div>\n",
       "<style scoped>\n",
       "    .dataframe tbody tr th:only-of-type {\n",
       "        vertical-align: middle;\n",
       "    }\n",
       "\n",
       "    .dataframe tbody tr th {\n",
       "        vertical-align: top;\n",
       "    }\n",
       "\n",
       "    .dataframe thead th {\n",
       "        text-align: right;\n",
       "    }\n",
       "</style>\n",
       "<table border=\"1\" class=\"dataframe\">\n",
       "  <thead>\n",
       "    <tr style=\"text-align: right;\">\n",
       "      <th></th>\n",
       "      <th>timeStamp</th>\n",
       "      <th>logs</th>\n",
       "    </tr>\n",
       "  </thead>\n",
       "  <tbody>\n",
       "    <tr>\n",
       "      <th>0</th>\n",
       "      <td>5381987</td>\n",
       "      <td>['sysmonitor pkill parent getosstat send sigte...</td>\n",
       "    </tr>\n",
       "    <tr>\n",
       "      <th>1</th>\n",
       "      <td>5381990</td>\n",
       "      <td>['sysmonitor pkill parent getosstat send sigte...</td>\n",
       "    </tr>\n",
       "    <tr>\n",
       "      <th>2</th>\n",
       "      <td>5381992</td>\n",
       "      <td>['sysmonitor pkill parent getosstat send sigte...</td>\n",
       "    </tr>\n",
       "    <tr>\n",
       "      <th>3</th>\n",
       "      <td>5381994</td>\n",
       "      <td>['sysmonitor bash parent bash send sigkill bas...</td>\n",
       "    </tr>\n",
       "    <tr>\n",
       "      <th>4</th>\n",
       "      <td>5381996</td>\n",
       "      <td>['sysmonitor pkill parent getosstat send sigte...</td>\n",
       "    </tr>\n",
       "  </tbody>\n",
       "</table>\n",
       "</div>"
      ],
      "text/plain": [
       "   timeStamp                                               logs\n",
       "0    5381987  ['sysmonitor pkill parent getosstat send sigte...\n",
       "1    5381990  ['sysmonitor pkill parent getosstat send sigte...\n",
       "2    5381992  ['sysmonitor pkill parent getosstat send sigte...\n",
       "3    5381994  ['sysmonitor bash parent bash send sigkill bas...\n",
       "4    5381996  ['sysmonitor pkill parent getosstat send sigte..."
      ]
     },
     "execution_count": 19,
     "metadata": {},
     "output_type": "execute_result"
    }
   ],
   "source": [
    "merged_df.head()"
   ]
  },
  {
   "cell_type": "code",
   "execution_count": 22,
   "id": "7b788b7f",
   "metadata": {},
   "outputs": [],
   "source": [
    "from gensim.models.doc2vec import TaggedDocument, Doc2Vec\n",
    "from gensim.parsing.preprocessing import preprocess_string\n",
    "from sklearn.base import BaseEstimator\n",
    "from sklearn import utils as skl_utils\n",
    "from tqdm import tqdm\n",
    "\n",
    "import multiprocessing\n",
    "import numpy as np\n",
    "\n",
    "class Doc2VecTransformer(BaseEstimator):\n",
    "\n",
    "    def __init__(self, vector_size=100, learning_rate=0.02, epochs=20):\n",
    "        self.learning_rate = learning_rate\n",
    "        self.epochs = epochs\n",
    "        self._model = None\n",
    "        self.vector_size = vector_size\n",
    "        self.workers = multiprocessing.cpu_count() - 1\n",
    "\n",
    "    def fit(self, df_x, df_y=None):\n",
    "        tagged_x = [TaggedDocument(str(row['logs']).split(), [index]) for index, row in df_x.iterrows()]\n",
    "        model = Doc2Vec(documents=tagged_x, vector_size=self.vector_size, workers=self.workers)\n",
    "\n",
    "        for epoch in range(self.epochs):\n",
    "            model.train(skl_utils.shuffle([x for x in tqdm(tagged_x)]), total_examples=len(tagged_x), epochs=1)\n",
    "            model.alpha -= self.learning_rate\n",
    "            model.min_alpha = model.alpha\n",
    "\n",
    "        self._model = model\n",
    "        return self\n",
    "\n",
    "    def transform(self, df_x):\n",
    "        return np.asmatrix(np.array([self._model.infer_vector(str(row['logs']).split())\n",
    "                                     for index, row in df_x.iterrows()]))"
   ]
  },
  {
   "cell_type": "code",
   "execution_count": 23,
   "id": "8cf6a8e8",
   "metadata": {},
   "outputs": [
    {
     "name": "stderr",
     "output_type": "stream",
     "text": [
      "100%|██████████| 22100/22100 [00:00<00:00, 1540127.58it/s]\n",
      "100%|██████████| 22100/22100 [00:00<00:00, 1651271.37it/s]\n",
      "100%|██████████| 22100/22100 [00:00<00:00, 2310824.88it/s]\n",
      "100%|██████████| 22100/22100 [00:00<00:00, 1595698.37it/s]\n",
      "100%|██████████| 22100/22100 [00:00<00:00, 1542023.53it/s]\n",
      "100%|██████████| 22100/22100 [00:00<00:00, 1698783.44it/s]\n",
      "100%|██████████| 22100/22100 [00:00<00:00, 1580166.01it/s]\n",
      "100%|██████████| 22100/22100 [00:00<00:00, 1551443.90it/s]\n",
      "100%|██████████| 22100/22100 [00:00<00:00, 2847745.57it/s]\n",
      "100%|██████████| 22100/22100 [00:00<00:00, 2867035.30it/s]\n",
      "100%|██████████| 22100/22100 [00:00<00:00, 1618009.01it/s]\n",
      "100%|██████████| 22100/22100 [00:00<00:00, 1575091.22it/s]\n",
      "100%|██████████| 22100/22100 [00:00<00:00, 1801599.94it/s]\n",
      "100%|██████████| 22100/22100 [00:00<00:00, 1585436.29it/s]\n",
      "100%|██████████| 22100/22100 [00:00<00:00, 1591943.92it/s]\n",
      "100%|██████████| 22100/22100 [00:00<00:00, 2200610.57it/s]\n",
      "100%|██████████| 22100/22100 [00:00<00:00, 1216474.21it/s]\n",
      "100%|██████████| 22100/22100 [00:00<00:00, 1662466.03it/s]\n",
      "100%|██████████| 22100/22100 [00:00<00:00, 1663958.18it/s]\n",
      "100%|██████████| 22100/22100 [00:00<00:00, 2062573.56it/s]\n"
     ]
    }
   ],
   "source": [
    "doc2vec_tr = Doc2VecTransformer(vector_size=300)\n",
    "doc2vec_tr.fit(merged_df)\n",
    "doc2vec_vectors = doc2vec_tr.transform(merged_df)"
   ]
  },
  {
   "cell_type": "code",
   "execution_count": 24,
   "id": "9f55ed53",
   "metadata": {},
   "outputs": [
    {
     "name": "stdout",
     "output_type": "stream",
     "text": [
      "[[ 1.2782742e-03 -7.2805973e-04  4.2708396e-04 ...  3.2242676e-04\n",
      "  -1.5394182e-03 -2.7444979e-04]\n",
      " [-5.1566266e-04  8.2836428e-04  6.9406827e-04 ... -1.4438351e-04\n",
      "   7.6033530e-04 -1.1656444e-03]\n",
      " [ 1.2782742e-03 -7.2805973e-04  4.2708396e-04 ...  3.2242676e-04\n",
      "  -1.5394182e-03 -2.7444979e-04]\n",
      " ...\n",
      " [-1.5021501e-03  4.4852475e-04 -1.4256920e-03 ... -9.2206913e-04\n",
      "  -2.1606813e-04 -1.3278689e-03]\n",
      " [-1.3205326e-03 -1.1997853e-03  1.4421020e-03 ...  1.1706648e-03\n",
      "   9.9731411e-04  1.6205257e-03]\n",
      " [-3.1382381e-04 -1.4554487e-03  1.6126616e-03 ...  1.7316619e-04\n",
      "   2.3531516e-05 -2.0554970e-04]]\n"
     ]
    }
   ],
   "source": [
    "print(doc2vec_vectors)"
   ]
  },
  {
   "cell_type": "code",
   "execution_count": 25,
   "id": "ca401c25",
   "metadata": {},
   "outputs": [],
   "source": [
    "from sklearn.neural_network import MLPRegressor\n",
    "\n",
    "auto_encoder = MLPRegressor(hidden_layer_sizes=(\n",
    "                                                 600,\n",
    "                                                 150, \n",
    "                                                 600,\n",
    "                                               ))\n",
    "auto_encoder.fit(doc2vec_vectors, doc2vec_vectors)\n",
    "predicted_vectors = auto_encoder.predict(doc2vec_vectors)"
   ]
  },
  {
   "cell_type": "code",
   "execution_count": 26,
   "id": "0c07cee2",
   "metadata": {},
   "outputs": [
    {
     "name": "stdout",
     "output_type": "stream",
     "text": [
      "[[ 0.01154734 -0.00092518 -0.00809791 ... -0.00534045  0.00928494\n",
      "   0.00849221]\n",
      " [ 0.01159127 -0.00085769 -0.00820885 ... -0.0052627   0.00938178\n",
      "   0.00855557]\n",
      " [ 0.01154734 -0.00092518 -0.00809791 ... -0.00534045  0.00928494\n",
      "   0.00849221]\n",
      " ...\n",
      " [ 0.01154139 -0.00081545 -0.00819039 ... -0.00546627  0.00925885\n",
      "   0.00840016]\n",
      " [ 0.01157004 -0.00083297 -0.00815288 ... -0.00527983  0.00931081\n",
      "   0.00847208]\n",
      " [ 0.01155739 -0.00080322 -0.00814157 ... -0.00535443  0.00921827\n",
      "   0.00855021]]\n"
     ]
    }
   ],
   "source": [
    "print(predicted_vectors)"
   ]
  },
  {
   "cell_type": "code",
   "execution_count": 27,
   "id": "eb65acab",
   "metadata": {},
   "outputs": [
    {
     "data": {
      "text/plain": [
       "0.8494142672187279"
      ]
     },
     "execution_count": 27,
     "metadata": {},
     "output_type": "execute_result"
    }
   ],
   "source": [
    "auto_encoder.score(predicted_vectors, doc2vec_vectors)"
   ]
  },
  {
   "cell_type": "code",
   "execution_count": 28,
   "id": "2713e905",
   "metadata": {},
   "outputs": [
    {
     "data": {
      "text/plain": [
       "<AxesSubplot:>"
      ]
     },
     "execution_count": 28,
     "metadata": {},
     "output_type": "execute_result"
    },
    {
     "data": {
      "image/png": "[encoded data removed]",
      "text/plain": [
       "<Figure size 432x288 with 1 Axes>"
      ]
     },
     "metadata": {
      "needs_background": "light"
     },
     "output_type": "display_data"
    }
   ],
   "source": [
    "pd.DataFrame(auto_encoder.loss_curve_).plot()"
   ]
  },
  {
   "cell_type": "code",
   "execution_count": null,
   "id": "dd94fe82",
   "metadata": {},
   "outputs": [],
   "source": [
    "from scipy.spatial.distance import cosine\n",
    "\n",
    "def key_consine_similarity(tupple):\n",
    "    return tupple[1]\n",
    "\n",
    "def get_computed_similarities(vectors, predicted_vectors, reverse=False):\n",
    "    data_size = len(title_plot_df)\n",
    "    cosine_similarities = []\n",
    "    for i in range(data_size):\n",
    "        cosine_sim_val = (1 - cosine(vectors[i], predicted_vectors[i]))\n",
    "        cosine_similarities.append((i, cosine_sim_val))\n",
    "\n",
    "    return sorted(cosine_similarities, key=key_consine_similarity, reverse=reverse)\n",
    "\n",
    "def display_top_n(sorted_cosine_similarities, n=5):\n",
    "    for i in range(n):\n",
    "        index, consine_sim_val = sorted_cosine_similarities[i]\n",
    "        print('timeStamp: ', title_plot_df.iloc[index, 0])  \n",
    "        print('Cosine Sim Val :', consine_sim_val)\n",
    "        print('---------------------------------')\n"
   ]
  },
  {
   "cell_type": "markdown",
   "id": "c2bd41d5",
   "metadata": {},
   "source": [
    "# Preprocessing test data"
   ]
  },
  {
   "cell_type": "code",
   "execution_count": 44,
   "id": "5864c0ff",
   "metadata": {},
   "outputs": [
    {
     "name": "stdout",
     "output_type": "stream",
     "text": [
      "1592\n",
      "1592\n"
     ]
    }
   ],
   "source": [
    "import json\n",
    "\n",
    "f = open('dataset/imgs_2021070511352146227/testset/sysmonitor_testset.json',)\n",
    "x = json.load(f)\n",
    "\n",
    "list_of_logs = []\n",
    "list_of_time = []\n",
    "count =0\n",
    "\n",
    "for i in x.keys():\n",
    "    list_of_time.append(i)\n",
    "    list_of_logs.append(x[i])\n",
    "    count +=1\n",
    "\n",
    "print(len(list_of_logs))\n",
    "print(len(list_of_time))\n",
    "\n",
    "\n"
   ]
  },
  {
   "cell_type": "code",
   "execution_count": 45,
   "id": "a7b357b3",
   "metadata": {},
   "outputs": [],
   "source": [
    "from gensim import utils\n",
    "import gensim.parsing.preprocessing as gsp\n",
    "\n",
    "filters = [\n",
    "           gsp.strip_tags, \n",
    "           gsp.strip_punctuation,\n",
    "           gsp.strip_multiple_whitespaces,\n",
    "           gsp.strip_numeric,\n",
    "           gsp.remove_stopwords, \n",
    "           gsp.strip_short, \n",
    "#            gsp.stem_text\n",
    "          ]\n",
    "\n",
    "def clean_text(s):\n",
    "    s = s.lower()\n",
    "    s = utils.to_unicode(s)\n",
    "    for f in filters:\n",
    "        s = f(s)\n",
    "    return s\n"
   ]
  },
  {
   "cell_type": "code",
   "execution_count": 46,
   "id": "70043a25",
   "metadata": {},
   "outputs": [],
   "source": [
    "def uniq_sent(l1):\n",
    "    k = []\n",
    "    for i in l1:\n",
    "\n",
    "        # If condition is used to store unique string\n",
    "        # in another list 'k'\n",
    "        if (l1.count(i)>=1 and (i not in k)):\n",
    "            k.append(i)\n",
    "    return k"
   ]
  },
  {
   "cell_type": "code",
   "execution_count": 47,
   "id": "51ee6f32",
   "metadata": {},
   "outputs": [],
   "source": [
    "def clean_sent(l2): # l2 is a list of sentences\n",
    "    count=0\n",
    "    clean_list=[]\n",
    "    for i in l2:\n",
    "        clean_list.append(clean_text(i))\n",
    "    return clean_list"
   ]
  },
  {
   "cell_type": "code",
   "execution_count": 48,
   "id": "411dc66b",
   "metadata": {},
   "outputs": [
    {
     "name": "stdout",
     "output_type": "stream",
     "text": [
      "1592\n"
     ]
    }
   ],
   "source": [
    "# Driver code\n",
    "clean_uniq_list=[]\n",
    "for i in list_of_logs:\n",
    "    clean_uniq_list.append(uniq_sent(clean_sent(i)))\n",
    "print(len(clean_uniq_list))"
   ]
  },
  {
   "cell_type": "code",
   "execution_count": 49,
   "id": "2c8970f3",
   "metadata": {},
   "outputs": [
    {
     "name": "stdout",
     "output_type": "stream",
     "text": [
      "('5396449', ['sysmonitor bash parent bash send sigkill bash bash opt fusionstorage agent script dsware agent dsware agent', 'sysmonitor bash parent bash send sigkill vmstat bash opt fusionstorage agent script dsware agent dsware agent', 'sysmonitor bash parent bash send sigkill free bash opt fusionstorage agent script dsware agent dsware agent', 'sysmonitor bash parent bash send sigkill iostat bash opt fusionstorage agent script dsware agent dsware agent'])\n"
     ]
    }
   ],
   "source": [
    "zipped = list(zip(list_of_time, clean_uniq_list))\n",
    "print(zipped[0])"
   ]
  },
  {
   "cell_type": "code",
   "execution_count": 50,
   "id": "c3b15343",
   "metadata": {
    "scrolled": false
   },
   "outputs": [
    {
     "name": "stdout",
     "output_type": "stream",
     "text": [
      "\n",
      "\n",
      " ('5396450', ['sysmonitor systemd parent swapper send sigterm irqbalance', 'sysmonitor irqbalance abnormal use systemctl restart irqbalance recover ret failnum'])\n"
     ]
    }
   ],
   "source": [
    "for i in range(1, 2):\n",
    "    print(\"\\n\\n\",zipped[i])"
   ]
  },
  {
   "cell_type": "code",
   "execution_count": null,
   "id": "8641786e",
   "metadata": {},
   "outputs": [],
   "source": [
    "print(uniq_sent(clean_sent(list_of_logs[9])))"
   ]
  },
  {
   "cell_type": "code",
   "execution_count": null,
   "id": "033417fb",
   "metadata": {
    "scrolled": true
   },
   "outputs": [],
   "source": [
    "\n",
    "list_of_logs[9]"
   ]
  },
  {
   "cell_type": "code",
   "execution_count": 51,
   "id": "0cd82e11",
   "metadata": {},
   "outputs": [],
   "source": [
    "import csv\n",
    "\n",
    "fields=[\"timeStamp\", \"logs\"]\n",
    "\n",
    "with open('sysmonitor_test.csv', 'w') as f:\n",
    "      \n",
    "    # using csv.writer method from CSV package\n",
    "    write = csv.writer(f)\n",
    "      \n",
    "    write.writerow(fields)\n",
    "    write.writerows(zipped)"
   ]
  },
  {
   "cell_type": "code",
   "execution_count": 85,
   "id": "6678c360",
   "metadata": {},
   "outputs": [],
   "source": [
    "#logs_df = pd.read_csv('messages_train.csv')"
   ]
  },
  {
   "cell_type": "code",
   "execution_count": 39,
   "id": "3e285fec",
   "metadata": {},
   "outputs": [],
   "source": [
    "# logs_df = pd.read_csv('messages_test.csv')"
   ]
  },
  {
   "cell_type": "code",
   "execution_count": 40,
   "id": "fb6f0969",
   "metadata": {},
   "outputs": [
    {
     "data": {
      "text/html": [
       "<div>\n",
       "<style scoped>\n",
       "    .dataframe tbody tr th:only-of-type {\n",
       "        vertical-align: middle;\n",
       "    }\n",
       "\n",
       "    .dataframe tbody tr th {\n",
       "        vertical-align: top;\n",
       "    }\n",
       "\n",
       "    .dataframe thead th {\n",
       "        text-align: right;\n",
       "    }\n",
       "</style>\n",
       "<table border=\"1\" class=\"dataframe\">\n",
       "  <thead>\n",
       "    <tr style=\"text-align: right;\">\n",
       "      <th></th>\n",
       "      <th>timeStamp</th>\n",
       "      <th>logs</th>\n",
       "    </tr>\n",
       "  </thead>\n",
       "  <tbody>\n",
       "    <tr>\n",
       "      <th>0</th>\n",
       "      <td>5399328</td>\n",
       "      <td>['systemd started session user cps', 'systemd ...</td>\n",
       "    </tr>\n",
       "    <tr>\n",
       "      <th>1</th>\n",
       "      <td>5399329</td>\n",
       "      <td>['systemd started session user root', 'systemd...</td>\n",
       "    </tr>\n",
       "    <tr>\n",
       "      <th>2</th>\n",
       "      <td>5399330</td>\n",
       "      <td>['systemd started session user root', 'systemd...</td>\n",
       "    </tr>\n",
       "    <tr>\n",
       "      <th>3</th>\n",
       "      <td>5399331</td>\n",
       "      <td>['systemd started session user root', 'systemd...</td>\n",
       "    </tr>\n",
       "    <tr>\n",
       "      <th>4</th>\n",
       "      <td>5399332</td>\n",
       "      <td>['systemd started session user root', 'systemd...</td>\n",
       "    </tr>\n",
       "  </tbody>\n",
       "</table>\n",
       "</div>"
      ],
      "text/plain": [
       "   timeStamp                                               logs\n",
       "0    5399328  ['systemd started session user cps', 'systemd ...\n",
       "1    5399329  ['systemd started session user root', 'systemd...\n",
       "2    5399330  ['systemd started session user root', 'systemd...\n",
       "3    5399331  ['systemd started session user root', 'systemd...\n",
       "4    5399332  ['systemd started session user root', 'systemd..."
      ]
     },
     "execution_count": 40,
     "metadata": {},
     "output_type": "execute_result"
    }
   ],
   "source": [
    "logs_df.head()"
   ]
  },
  {
   "cell_type": "code",
   "execution_count": 41,
   "id": "ea95506f",
   "metadata": {},
   "outputs": [],
   "source": [
    "from collections import Counter\n",
    "\n",
    "aggregate_counter = Counter()\n",
    "for row_index,row in logs_df.iterrows():\n",
    "    c = Counter(row['logs'].split())\n",
    "    aggregate_counter += c\n",
    "\n",
    "common_words = [word[0] for word in aggregate_counter.most_common(20)]\n",
    "common_words_counts = [word[1] for word in aggregate_counter.most_common(20)]\n"
   ]
  },
  {
   "cell_type": "code",
   "execution_count": 42,
   "id": "51887e06",
   "metadata": {},
   "outputs": [],
   "source": [
    "import matplotlib.pyplot as plt\n",
    "import seaborn as sns\n",
    "\n",
    "def barplot(words, words_counts, title):\n",
    "    fig = plt.figure(figsize=(18,6))\n",
    "    bar_plot = sns.barplot(x=words, y=words_counts)\n",
    "    for item in bar_plot.get_xticklabels():\n",
    "        item.set_rotation(90)\n",
    "    plt.title(title)\n",
    "    plt.show()"
   ]
  },
  {
   "cell_type": "code",
   "execution_count": 43,
   "id": "332e7ff1",
   "metadata": {},
   "outputs": [
    {
     "data": {
      "image/png": "[encoded data removed]",
      "text/plain": [
       "<Figure size 1296x432 with 1 Axes>"
      ]
     },
     "metadata": {
      "needs_background": "light"
     },
     "output_type": "display_data"
    }
   ],
   "source": [
    "barplot(words=common_words, words_counts=common_words_counts, title='Most Frequent Words used in logs')"
   ]
  },
  {
   "cell_type": "code",
   "execution_count": 113,
   "id": "fa5c41cf",
   "metadata": {},
   "outputs": [
    {
     "data": {
      "image/png": "[encoded data removed]",
      "text/plain": [
       "<Figure size 1296x432 with 1 Axes>"
      ]
     },
     "metadata": {
      "needs_background": "light"
     },
     "output_type": "display_data"
    }
   ],
   "source": [
    "barplot(words=common_words, words_counts=common_words_counts, title='Most Frequent Words used in system logs')"
   ]
  },
  {
   "cell_type": "code",
   "execution_count": 67,
   "id": "ca3b87da",
   "metadata": {},
   "outputs": [],
   "source": [
    "# Merge the two training csv files\n",
    "msg_df = pd.read_csv('dataset/imgs_2021070511352146227/testset/messages_test.csv')\n",
    "sys_df = pd.read_csv('dataset/imgs_2021070511352146227/testset/sysmonitor_test.csv')\n",
    "final_dataframe = pd.concat([msg_df, sys_df])\n"
   ]
  },
  {
   "cell_type": "code",
   "execution_count": 68,
   "id": "b38e4c9a",
   "metadata": {},
   "outputs": [
    {
     "name": "stdout",
     "output_type": "stream",
     "text": [
      "    timeStamp                                               logs\n",
      "10    5399338  ['systemd started session user cps', 'systemd ...\n",
      "11    5399339  ['systemd started session user cps', 'systemd ...\n"
     ]
    }
   ],
   "source": [
    "print(final_dataframe[10:12])"
   ]
  },
  {
   "cell_type": "code",
   "execution_count": 69,
   "id": "a2e86519",
   "metadata": {},
   "outputs": [
    {
     "name": "stdout",
     "output_type": "stream",
     "text": [
      "1592\n",
      "3150\n",
      "4742\n"
     ]
    }
   ],
   "source": [
    "print(len(sys_df))\n",
    "print(len(msg_df))\n",
    "print(len(final_dataframe))\n"
   ]
  },
  {
   "cell_type": "code",
   "execution_count": 70,
   "id": "dc58a679",
   "metadata": {},
   "outputs": [],
   "source": [
    "final_dataframe.to_csv('dataset/imgs_2021070511352146227/testset/merged_test.csv')\n"
   ]
  },
  {
   "cell_type": "code",
   "execution_count": 140,
   "id": "ce82a17f",
   "metadata": {},
   "outputs": [],
   "source": [
    "# merged_df = pd.read_csv('dataset/imgs_2021070511352146227/trainset/merged_train.csv')"
   ]
  },
  {
   "cell_type": "code",
   "execution_count": 58,
   "id": "f4e33d05",
   "metadata": {},
   "outputs": [
    {
     "name": "stdout",
     "output_type": "stream",
     "text": [
      "   timeStamp                                               logs\n",
      "0    5396449  ['sysmonitor bash parent bash send sigkill bas...\n",
      "1    5396450  ['sysmonitor systemd parent swapper send sigte...\n",
      "2    5396453  ['sysmonitor pkill parent getosstat send sigte...\n",
      "3    5396454  ['sysmonitor systemd parent swapper send sigte...\n",
      "4    5396457  ['sysmonitor bash parent bash send sigkill bas...\n"
     ]
    }
   ],
   "source": [
    "print(final_dataframe.head())"
   ]
  },
  {
   "cell_type": "code",
   "execution_count": 142,
   "id": "60c5399d",
   "metadata": {},
   "outputs": [],
   "source": [
    "# merged_df.drop(merged_df.columns[0], axis = 1, inplace = True)"
   ]
  },
  {
   "cell_type": "code",
   "execution_count": 143,
   "id": "64016e15",
   "metadata": {},
   "outputs": [],
   "source": [
    "# merged_df.to_csv('dataset/imgs_2021070511352146227/trainset/merged_train.csv', index=False)"
   ]
  },
  {
   "cell_type": "code",
   "execution_count": 59,
   "id": "8763718c",
   "metadata": {},
   "outputs": [],
   "source": [
    "merged_df = pd.read_csv('dataset/imgs_2021070511352146227/testset/merged_test.csv')"
   ]
  },
  {
   "cell_type": "code",
   "execution_count": 61,
   "id": "23fc2f29",
   "metadata": {},
   "outputs": [
    {
     "data": {
      "text/html": [
       "<div>\n",
       "<style scoped>\n",
       "    .dataframe tbody tr th:only-of-type {\n",
       "        vertical-align: middle;\n",
       "    }\n",
       "\n",
       "    .dataframe tbody tr th {\n",
       "        vertical-align: top;\n",
       "    }\n",
       "\n",
       "    .dataframe thead th {\n",
       "        text-align: right;\n",
       "    }\n",
       "</style>\n",
       "<table border=\"1\" class=\"dataframe\">\n",
       "  <thead>\n",
       "    <tr style=\"text-align: right;\">\n",
       "      <th></th>\n",
       "      <th>Unnamed: 0</th>\n",
       "      <th>timeStamp</th>\n",
       "      <th>logs</th>\n",
       "    </tr>\n",
       "  </thead>\n",
       "  <tbody>\n",
       "    <tr>\n",
       "      <th>0</th>\n",
       "      <td>0</td>\n",
       "      <td>5396449</td>\n",
       "      <td>['sysmonitor bash parent bash send sigkill bas...</td>\n",
       "    </tr>\n",
       "    <tr>\n",
       "      <th>1</th>\n",
       "      <td>1</td>\n",
       "      <td>5396450</td>\n",
       "      <td>['sysmonitor systemd parent swapper send sigte...</td>\n",
       "    </tr>\n",
       "    <tr>\n",
       "      <th>2</th>\n",
       "      <td>2</td>\n",
       "      <td>5396453</td>\n",
       "      <td>['sysmonitor pkill parent getosstat send sigte...</td>\n",
       "    </tr>\n",
       "    <tr>\n",
       "      <th>3</th>\n",
       "      <td>3</td>\n",
       "      <td>5396454</td>\n",
       "      <td>['sysmonitor systemd parent swapper send sigte...</td>\n",
       "    </tr>\n",
       "    <tr>\n",
       "      <th>4</th>\n",
       "      <td>4</td>\n",
       "      <td>5396457</td>\n",
       "      <td>['sysmonitor bash parent bash send sigkill bas...</td>\n",
       "    </tr>\n",
       "  </tbody>\n",
       "</table>\n",
       "</div>"
      ],
      "text/plain": [
       "   Unnamed: 0  timeStamp                                               logs\n",
       "0           0    5396449  ['sysmonitor bash parent bash send sigkill bas...\n",
       "1           1    5396450  ['sysmonitor systemd parent swapper send sigte...\n",
       "2           2    5396453  ['sysmonitor pkill parent getosstat send sigte...\n",
       "3           3    5396454  ['sysmonitor systemd parent swapper send sigte...\n",
       "4           4    5396457  ['sysmonitor bash parent bash send sigkill bas..."
      ]
     },
     "execution_count": 61,
     "metadata": {},
     "output_type": "execute_result"
    }
   ],
   "source": [
    "merged_df.head()"
   ]
  },
  {
   "cell_type": "code",
   "execution_count": null,
   "id": "4a3f6093",
   "metadata": {},
   "outputs": [],
   "source": []
  },
  {
   "cell_type": "code",
   "execution_count": null,
   "id": "c6c9810f",
   "metadata": {},
   "outputs": [],
   "source": []
  },
  {
   "cell_type": "code",
   "execution_count": null,
   "id": "22dd51ff",
   "metadata": {},
   "outputs": [],
   "source": []
  },
  {
   "cell_type": "code",
   "execution_count": null,
   "id": "b46e1069",
   "metadata": {},
   "outputs": [],
   "source": []
  },
  {
   "cell_type": "code",
   "execution_count": null,
   "id": "87637b9b",
   "metadata": {},
   "outputs": [],
   "source": []
  }
 ],
 "metadata": {
  "kernelspec": {
   "display_name": "Python 3",
   "language": "python",
   "name": "python3"
  },
  "language_info": {
   "codemirror_mode": {
    "name": "ipython",
    "version": 3
   },
   "file_extension": ".py",
   "mimetype": "text/x-python",
   "name": "python",
   "nbconvert_exporter": "python",
   "pygments_lexer": "ipython3",
   "version": "3.7.5"
  }
 },
 "nbformat": 4,
 "nbformat_minor": 5
}
