{
 "cells": [
  {
   "cell_type": "code",
   "execution_count": 17,
   "id": "1bfb962c",
   "metadata": {},
   "outputs": [
    {
     "name": "stdout",
     "output_type": "stream",
     "text": [
      "Automatically created module for IPython interactive environment\n"
     ]
    }
   ],
   "source": [
    "print(__doc__)\n",
    "import pandas as pd\n",
    "import numpy as np\n",
    "import matplotlib.pyplot as plt\n",
    "from sklearn.ensemble import IsolationForest"
   ]
  },
  {
   "cell_type": "code",
   "execution_count": 18,
   "id": "aae1f45b",
   "metadata": {},
   "outputs": [],
   "source": [
    "# rng = np.random.RandomState(42)"
   ]
  },
  {
   "cell_type": "code",
   "execution_count": 62,
   "id": "e71a4e52",
   "metadata": {},
   "outputs": [],
   "source": [
    "train_df = pd.read_csv('dataset/imgs_2021070511352146227/trainset/messages_train.csv')\n",
    "test_df = pd.read_csv('dataset/imgs_2021070511352146227/testset/messages_test.csv')"
   ]
  },
  {
   "cell_type": "code",
   "execution_count": 63,
   "id": "daa1f426",
   "metadata": {},
   "outputs": [
    {
     "name": "stdout",
     "output_type": "stream",
     "text": [
      "      timeStamp                                               logs\n",
      "0       5399328  ['systemd started session user cps', 'systemd ...\n",
      "1       5399329  ['systemd started session user root', 'systemd...\n",
      "2       5399330  ['systemd started session user root', 'systemd...\n",
      "3       5399331  ['systemd started session user root', 'systemd...\n",
      "4       5399332  ['systemd started session user root', 'systemd...\n",
      "...         ...                                                ...\n",
      "3145    5402491  ['systemd started session user cps', 'systemd ...\n",
      "3146    5402492  ['systemd started session user cps', 'systemd ...\n",
      "3147    5402493  ['systemd started session user cps', 'systemd ...\n",
      "3148    5402494  ['systemd started session user cps', 'systemd ...\n",
      "3149    5402495  ['systemd started session user root', 'systemd...\n",
      "\n",
      "[3150 rows x 2 columns]\n"
     ]
    }
   ],
   "source": [
    "print(test_df)"
   ]
  },
  {
   "cell_type": "code",
   "execution_count": 64,
   "id": "813120b8",
   "metadata": {},
   "outputs": [],
   "source": [
    "from gensim.models.doc2vec import TaggedDocument, Doc2Vec\n",
    "from gensim.parsing.preprocessing import preprocess_string\n",
    "from sklearn.base import BaseEstimator\n",
    "from sklearn import utils as skl_utils\n",
    "from tqdm import tqdm\n",
    "\n",
    "import multiprocessing\n",
    "import numpy as np\n",
    "\n",
    "class Doc2VecTransformer(BaseEstimator):\n",
    "\n",
    "    def __init__(self, vector_size=100, learning_rate=0.02, epochs=20):\n",
    "        self.learning_rate = learning_rate\n",
    "        self.epochs = epochs\n",
    "        self._model = None\n",
    "        self.vector_size = vector_size\n",
    "        self.workers = multiprocessing.cpu_count() - 1\n",
    "\n",
    "    def fit(self, df_x, df_y=None):\n",
    "        tagged_x = [TaggedDocument(str(row['logs']).split(), [index]) for index, row in df_x.iterrows()]\n",
    "        model = Doc2Vec(documents=tagged_x, vector_size=self.vector_size, workers=self.workers)\n",
    "\n",
    "        for epoch in range(self.epochs):\n",
    "            model.train(skl_utils.shuffle([x for x in tqdm(tagged_x)]), total_examples=len(tagged_x), epochs=1)\n",
    "            model.alpha -= self.learning_rate\n",
    "            model.min_alpha = model.alpha\n",
    "\n",
    "        self._model = model\n",
    "        return self\n",
    "\n",
    "    def transform(self, df_x):\n",
    "        return np.asmatrix(np.array([self._model.infer_vector(str(row['logs']).split())\n",
    "                                     for index, row in df_x.iterrows()]))"
   ]
  },
  {
   "cell_type": "code",
   "execution_count": 65,
   "id": "31e7a73f",
   "metadata": {},
   "outputs": [
    {
     "name": "stderr",
     "output_type": "stream",
     "text": [
      "100%|██████████| 14401/14401 [00:00<00:00, 1242868.62it/s]\n",
      "100%|██████████| 14401/14401 [00:00<00:00, 1462309.88it/s]\n",
      "100%|██████████| 14401/14401 [00:00<00:00, 1643507.07it/s]\n",
      "100%|██████████| 14401/14401 [00:00<00:00, 1567177.93it/s]\n",
      "100%|██████████| 14401/14401 [00:00<00:00, 1776429.97it/s]\n",
      "100%|██████████| 14401/14401 [00:00<00:00, 1525962.46it/s]\n",
      "100%|██████████| 14401/14401 [00:00<00:00, 1448423.86it/s]\n",
      "100%|██████████| 14401/14401 [00:00<00:00, 1539693.40it/s]\n",
      "100%|██████████| 14401/14401 [00:00<00:00, 2554867.27it/s]\n",
      "100%|██████████| 14401/14401 [00:00<00:00, 1544022.80it/s]\n",
      "100%|██████████| 14401/14401 [00:00<00:00, 1553953.48it/s]\n",
      "100%|██████████| 14401/14401 [00:00<00:00, 1498738.82it/s]\n",
      "100%|██████████| 14401/14401 [00:00<00:00, 1535037.03it/s]\n",
      "100%|██████████| 14401/14401 [00:00<00:00, 1505875.49it/s]\n",
      "100%|██████████| 14401/14401 [00:00<00:00, 1491411.65it/s]\n",
      "100%|██████████| 14401/14401 [00:00<00:00, 1598448.50it/s]\n",
      "100%|██████████| 14401/14401 [00:00<00:00, 1525461.46it/s]\n",
      "100%|██████████| 14401/14401 [00:00<00:00, 1569703.01it/s]\n",
      "100%|██████████| 14401/14401 [00:00<00:00, 1487994.78it/s]\n",
      "100%|██████████| 14401/14401 [00:00<00:00, 1489278.86it/s]\n"
     ]
    }
   ],
   "source": [
    "# Creating word vectors for trainset\n",
    "doc2vec_tr = Doc2VecTransformer(vector_size=100)\n",
    "doc2vec_tr.fit(train_df)\n",
    "doc2vec_vectors = doc2vec_tr.transform(train_df)"
   ]
  },
  {
   "cell_type": "code",
   "execution_count": 66,
   "id": "880b1700",
   "metadata": {},
   "outputs": [],
   "source": [
    "# Generate train data\n",
    "# X = 0.3 * rng.randn(100, 2)\n",
    "# X_train = np.r_[X + 2, X - 2]\n",
    "X_train = doc2vec_vectors\n"
   ]
  },
  {
   "cell_type": "code",
   "execution_count": 67,
   "id": "5f8ed7ae",
   "metadata": {},
   "outputs": [
    {
     "name": "stdout",
     "output_type": "stream",
     "text": [
      "(14401, 100)\n"
     ]
    }
   ],
   "source": [
    "print(X_train.shape)"
   ]
  },
  {
   "cell_type": "code",
   "execution_count": 68,
   "id": "dc475224",
   "metadata": {},
   "outputs": [
    {
     "name": "stderr",
     "output_type": "stream",
     "text": [
      "100%|██████████| 3150/3150 [00:00<00:00, 1267830.11it/s]\n",
      "100%|██████████| 3150/3150 [00:00<00:00, 1317648.11it/s]\n",
      "100%|██████████| 3150/3150 [00:00<00:00, 1328779.80it/s]\n",
      "100%|██████████| 3150/3150 [00:00<00:00, 1332935.59it/s]\n",
      "100%|██████████| 3150/3150 [00:00<00:00, 1322395.92it/s]\n",
      "100%|██████████| 3150/3150 [00:00<00:00, 1308902.08it/s]\n",
      "100%|██████████| 3150/3150 [00:00<00:00, 2424230.75it/s]\n",
      "100%|██████████| 3150/3150 [00:00<00:00, 1327311.39it/s]\n",
      "100%|██████████| 3150/3150 [00:00<00:00, 1360104.76it/s]\n",
      "100%|██████████| 3150/3150 [00:00<00:00, 1273451.33it/s]\n",
      "100%|██████████| 3150/3150 [00:00<00:00, 1364600.04it/s]\n",
      "100%|██████████| 3150/3150 [00:00<00:00, 1307477.25it/s]\n",
      "100%|██████████| 3150/3150 [00:00<00:00, 1339421.90it/s]\n",
      "100%|██████████| 3150/3150 [00:00<00:00, 1337794.41it/s]\n",
      "100%|██████████| 3150/3150 [00:00<00:00, 1308124.51it/s]\n",
      "100%|██████████| 3150/3150 [00:00<00:00, 1279742.12it/s]\n",
      "100%|██████████| 3150/3150 [00:00<00:00, 1385202.10it/s]\n",
      "100%|██████████| 3150/3150 [00:00<00:00, 1315286.97it/s]\n",
      "100%|██████████| 3150/3150 [00:00<00:00, 1361506.35it/s]\n",
      "100%|██████████| 3150/3150 [00:00<00:00, 1354527.13it/s]\n"
     ]
    }
   ],
   "source": [
    "# Creating word vectors for testset\n",
    "doc2vec_test = Doc2VecTransformer(vector_size=100)\n",
    "doc2vec_test.fit(test_df)\n",
    "doc2vec_test_vecs = doc2vec_test.transform(test_df)"
   ]
  },
  {
   "cell_type": "code",
   "execution_count": 69,
   "id": "5c8bd801",
   "metadata": {},
   "outputs": [],
   "source": [
    "# # Generate some regular novel observations\n",
    "# X = 0.3 * rng.randn(20, 2)\n",
    "# X_test = np.r_[X + 2, X - 2]\n",
    "X_test = doc2vec_test_vecs"
   ]
  },
  {
   "cell_type": "code",
   "execution_count": 70,
   "id": "b924fbb9",
   "metadata": {},
   "outputs": [],
   "source": [
    "# Generate some abnormal novel observations\n",
    "# X_outliers = rng.uniform(low=-4, high=4, size=(20, 2))"
   ]
  },
  {
   "cell_type": "code",
   "execution_count": 71,
   "id": "32f06cb4",
   "metadata": {},
   "outputs": [],
   "source": [
    "# fit the model\n",
    "# clf = IsolationForest(max_samples=100, random_state=rng)\n",
    "clf = IsolationForest(max_samples=100)\n",
    "clf.fit(X_train)\n",
    "y_pred_train = clf.predict(X_train)\n",
    "y_pred_test = clf.predict(X_test)\n",
    "#y_pred_outliers = clf.predict(X_outliers)"
   ]
  },
  {
   "cell_type": "code",
   "execution_count": 31,
   "id": "901a036f",
   "metadata": {},
   "outputs": [],
   "source": [
    "# # plot the line, the samples, and the nearest vectors to the plane\n",
    "# xx, yy = np.meshgrid(np.linspace(-5, 5, 50), np.linspace(-5, 5, 50))\n",
    "# Z = clf.decision_function(np.c_[xx.ravel(), yy.ravel()])\n",
    "# Z = Z.reshape(xx.shape)\n",
    "\n",
    "# plt.title(\"IsolationForest\")\n",
    "# plt.contourf(xx, yy, Z, cmap=plt.cm.Blues_r)\n",
    "\n",
    "# b1 = plt.scatter(X_train[:, 0], X_train[:, 1], c='white',\n",
    "#                  s=20, edgecolor='k')\n",
    "# b2 = plt.scatter(X_test[:, 0], X_test[:, 1], c='green',\n",
    "#                  s=20, edgecolor='k')\n",
    "# # c = plt.scatter(X_outliers[:, 0], X_outliers[:, 1], c='red',\n",
    "# #                 s=20, edgecolor='k')\n",
    "# plt.axis('tight')\n",
    "# plt.xlim((-5, 5))\n",
    "# plt.ylim((-5, 5))\n",
    "# plt.legend([b1, b2, c],\n",
    "#            [\"training observations\",\n",
    "#             \"new regular observations\", \"new abnormal observations\"],\n",
    "#            loc=\"upper left\")"
   ]
  },
  {
   "cell_type": "code",
   "execution_count": 72,
   "id": "427bfb36",
   "metadata": {},
   "outputs": [],
   "source": [
    "test_score = clf.score_samples(X_test)"
   ]
  },
  {
   "cell_type": "code",
   "execution_count": 73,
   "id": "67754916",
   "metadata": {},
   "outputs": [
    {
     "name": "stdout",
     "output_type": "stream",
     "text": [
      "[-0.49881603 -0.49076915 -0.52495832 -0.48413824 -0.49180304 -0.49978776\n",
      " -0.48473893 -0.5032439  -0.50177077 -0.50460124]\n"
     ]
    }
   ],
   "source": [
    "print(test_score[:10])"
   ]
  },
  {
   "cell_type": "code",
   "execution_count": 74,
   "id": "014d30f3",
   "metadata": {},
   "outputs": [],
   "source": [
    "train_score = clf.score_samples(X_train)"
   ]
  },
  {
   "cell_type": "code",
   "execution_count": 76,
   "id": "f0bb9c68",
   "metadata": {},
   "outputs": [
    {
     "name": "stdout",
     "output_type": "stream",
     "text": [
      "[-0.48406002 -0.51355239 -0.4934302  -0.48622249 -0.49636785 -0.49632552\n",
      " -0.50796897 -0.4868488  -0.4934302  -0.50231747]\n"
     ]
    }
   ],
   "source": [
    "print(train_score[:10])"
   ]
  },
  {
   "cell_type": "code",
   "execution_count": 80,
   "id": "3f76aca4",
   "metadata": {},
   "outputs": [
    {
     "data": {
      "image/png": "[encoded data removed]",
      "text/plain": [
       "<Figure size 432x288 with 1 Axes>"
      ]
     },
     "metadata": {
      "needs_background": "light"
     },
     "output_type": "display_data"
    }
   ],
   "source": [
    "import numpy as np\n",
    "import matplotlib.pyplot as pp\n",
    "# this is the value where you want the data to appear on the y-axis.\n",
    "ar = train_score # just as an example array\n",
    "val = 0\n",
    "pp.plot(ar, np.zeros_like(ar) + val, 'x')\n",
    "pp.show()\n"
   ]
  },
  {
   "cell_type": "code",
   "execution_count": 83,
   "id": "749e305f",
   "metadata": {},
   "outputs": [
    {
     "data": {
      "image/png": "[encoded data removed]",
      "text/plain": [
       "<Figure size 432x288 with 1 Axes>"
      ]
     },
     "metadata": {
      "needs_background": "light"
     },
     "output_type": "display_data"
    }
   ],
   "source": [
    "ar = test_score # just as an example array\n",
    "val = 0\n",
    "pp.plot(ar, np.zeros_like(ar) + val, 'x')\n",
    "pp.show()"
   ]
  },
  {
   "cell_type": "code",
   "execution_count": 120,
   "id": "40095a02",
   "metadata": {},
   "outputs": [
    {
     "name": "stdout",
     "output_type": "stream",
     "text": [
      "[-0.49881603 -0.49076915 -0.52495832 -0.48413824 -0.49180304 -0.49978776\n",
      " -0.48473893 -0.5032439  -0.50177077 -0.50460124]\n"
     ]
    }
   ],
   "source": [
    "print(test_score[:10])"
   ]
  },
  {
   "cell_type": "code",
   "execution_count": 116,
   "id": "b093bff8",
   "metadata": {},
   "outputs": [],
   "source": [
    "x = list(test_score)"
   ]
  },
  {
   "cell_type": "code",
   "execution_count": 118,
   "id": "cf451897",
   "metadata": {},
   "outputs": [],
   "source": [
    "x.sort()"
   ]
  },
  {
   "cell_type": "code",
   "execution_count": 121,
   "id": "fb13ea7b",
   "metadata": {},
   "outputs": [
    {
     "name": "stdout",
     "output_type": "stream",
     "text": [
      "3150\n"
     ]
    }
   ],
   "source": [
    "print(len(x))"
   ]
  },
  {
   "cell_type": "code",
   "execution_count": null,
   "id": "a363e082",
   "metadata": {},
   "outputs": [],
   "source": []
  }
 ],
 "metadata": {
  "kernelspec": {
   "display_name": "Python 3",
   "language": "python",
   "name": "python3"
  },
  "language_info": {
   "codemirror_mode": {
    "name": "ipython",
    "version": 3
   },
   "file_extension": ".py",
   "mimetype": "text/x-python",
   "name": "python",
   "nbconvert_exporter": "python",
   "pygments_lexer": "ipython3",
   "version": "3.7.5"
  }
 },
 "nbformat": 4,
 "nbformat_minor": 5
}
